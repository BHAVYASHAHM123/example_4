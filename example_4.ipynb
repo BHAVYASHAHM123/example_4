{
 "cells": [
  {
   "cell_type": "code",
   "execution_count": 1,
   "id": "86672784",
   "metadata": {},
   "outputs": [],
   "source": [
    "import sqlite3"
   ]
  },
  {
   "cell_type": "code",
   "execution_count": 4,
   "id": "cba00e93",
   "metadata": {},
   "outputs": [],
   "source": [
    "db = sqlite3.connect(\"test1.db\")"
   ]
  },
  {
   "cell_type": "code",
   "execution_count": 5,
   "id": "aec6e195",
   "metadata": {},
   "outputs": [],
   "source": [
    "c = db.cursor()"
   ]
  },
  {
   "cell_type": "code",
   "execution_count": 6,
   "id": "ad67fcee",
   "metadata": {},
   "outputs": [],
   "source": [
    "d = c.execute(\"create table test1_table(name text, mail_id text, age int, salary real)\")"
   ]
  },
  {
   "cell_type": "code",
   "execution_count": 8,
   "id": "e06cd4ef",
   "metadata": {},
   "outputs": [
    {
     "data": {
      "text/plain": [
       "<sqlite3.Cursor at 0x1f9333fd500>"
      ]
     },
     "execution_count": 8,
     "metadata": {},
     "output_type": "execute_result"
    }
   ],
   "source": [
    "c.execute(\"insert into test1_table values('bhavya', 'bhavya789shah@gmail.com', 21, 23220000)\")\n",
    "c.execute(\"insert into test1_table values('shah', 'bs485950@gmail.com', 22, 232200)\")\n",
    "c.execute(\"insert into test1_table values('bhavya shah', 'bhavyadatascience708@gmail.com', 20, 232000)\")\n",
    "c.execute(\"insert into test1_table values('shah bhavya', 'shahboy@gmail.com', 20, 232900)\")"
   ]
  },
  {
   "cell_type": "code",
   "execution_count": 18,
   "id": "e37c460e",
   "metadata": {},
   "outputs": [
    {
     "data": {
      "text/plain": [
       "[('bhavya', 'bhavya789shah@gmail.com', 21, 23220000.0),\n",
       " ('shah', 'bs485950@gmail.com', 22, 232200.0),\n",
       " ('bhavya shah', 'bhavyadatascience708@gmail.com', 20, 232000.0),\n",
       " ('shah bhavya', 'shahboy@gmail.com', 20, 232900.0)]"
      ]
     },
     "execution_count": 18,
     "metadata": {},
     "output_type": "execute_result"
    }
   ],
   "source": [
    "c.execute(\"select * from test1_table where salary > 4000\").fetchall()"
   ]
  },
  {
   "cell_type": "code",
   "execution_count": null,
   "id": "cd8e036c",
   "metadata": {},
   "outputs": [],
   "source": []
  }
 ],
 "metadata": {
  "kernelspec": {
   "display_name": "Python 3 (ipykernel)",
   "language": "python",
   "name": "python3"
  },
  "language_info": {
   "codemirror_mode": {
    "name": "ipython",
    "version": 3
   },
   "file_extension": ".py",
   "mimetype": "text/x-python",
   "name": "python",
   "nbconvert_exporter": "python",
   "pygments_lexer": "ipython3",
   "version": "3.9.7"
  }
 },
 "nbformat": 4,
 "nbformat_minor": 5
}
